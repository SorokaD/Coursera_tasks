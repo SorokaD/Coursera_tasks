{
 "cells": [
  {
   "cell_type": "markdown",
   "metadata": {},
   "source": [
    "**������������ ��������� �� Python 3.6:**\n",
    "+ numpy 1.15.4\n",
    "+ matplotlib 3.0.2\n",
    "+ seaborn 0.9.0\n",
    "+ sklearn 0.20.2"
   ]
  },
  {
   "cell_type": "markdown",
   "metadata": {},
   "source": [
    "# ��������� ������ �������� �������� �������������\n",
    "## Programming Assignment"
   ]
  },
  {
   "cell_type": "markdown",
   "metadata": {},
   "source": [
    "� ���� ������� �� ����������, � ��� ������� ������� ����� ������� ��������� ��������. �� ����������� �� ������ �������� ������������� (� ��������� 0 � 1), �� ���������� �� ��� ������ ������������ ����������� ����, ��� ������ ����������� ������ 1. ����� �������, �� ����� �������� � ������������, � �� �������� ������� ����������."
   ]
  },
  {
   "cell_type": "markdown",
   "metadata": {},
   "source": [
    "������� ��������� � ����� ������������ � ���������� Programming Assignment. ��� ����� ��������� ��� ���������� ��� � ����������� ������������ �������, � ����� ����������� ��������� ����� �������. ��� �������� �������� � ��������� ����� ���������� ������ ���� ������� �� ��������� ������� ������� ������, ��� ����� ������� � ������� ������������ � �������� ������� write_answer_N, N - ����� ������. ��������� ��� ����� � �������."
   ]
  },
  {
   "cell_type": "markdown",
   "metadata": {},
   "source": [
    "��� ���������� �������� ����� ������������� ��������������� ������. \n",
    "���������� seaborn ��������� ������� ������� ��������. ���� �� �� ������ �� ������������, ��������������� ������ ������.\n",
    "����� ����, ��� ���������� Programming Assignment ������ matplotlib � seaborn �� ����� (�� ������ �� ��������� ������ � ����������� �������� � �������� �� ��� ����������� ��������)."
   ]
  },
  {
   "cell_type": "code",
   "execution_count": null,
   "metadata": {},
   "outputs": [],
   "source": [
    "import numpy as np\n",
    "from matplotlib import pyplot as plt\n",
    "import seaborn\n",
    "%matplotlib inline"
   ]
  },
  {
   "cell_type": "markdown",
   "metadata": {},
   "source": [
    "### ��� ������������� ���������"
   ]
  },
  {
   "cell_type": "markdown",
   "metadata": {},
   "source": [
    "��� ���������� ������ �������� � �������� � �������� ����� ����� ������ ��� �������: ������ ���������� ������� � ������ ������������� �������; ����� ���������� �� actual � predicted. ������ actual �������� �� ��������� �������, ������ predicted ������������ ���������� ������������. ������� �� �� ����� ������������ �����-�� ��������� �������������, � ������ ���������� ������ ������� ������������.\n",
    "\n",
    "� ����� ������������ actual ������� �� ����� � ������, � predicted - �� ������� �� ��������� [0, 1] (����������� ������ 1). ����� ������� ������ ���������� �� scatter plot.\n",
    "\n",
    "����� ������� ��������� ������������ (��� ��������), ����� ���������� ����� T: ��� �������, ������� ������������ ���� ������, ������� � ������ 1, ��������� - � ������ 0. "
   ]
  },
  {
   "cell_type": "code",
   "execution_count": null,
   "metadata": {},
   "outputs": [],
   "source": [
    "# ������ ���� scatter plot\n",
    "def scatter(actual, predicted, T):\n",
    "    plt.scatter(actual, predicted)\n",
    "    plt.xlabel(\"Labels\")\n",
    "    plt.ylabel(\"Predicted probabilities\")\n",
    "    plt.plot([-0.2, 1.2], [T, T])\n",
    "    plt.axis([-0.1, 1.1, -0.1, 1.1])\n",
    "    \n",
    "# ������ ��������� scatter plot � �������, ������� ������� shape\n",
    "def many_scatters(actuals, predicteds, Ts, titles, shape):\n",
    "    plt.figure(figsize=(shape[1]*5, shape[0]*5))\n",
    "    i = 1\n",
    "    for actual, predicted, T, title in zip(actuals, predicteds, Ts, titles):\n",
    "        ax = plt.subplot(shape[0], shape[1], i)\n",
    "        ax.set_title(title)\n",
    "        i += 1\n",
    "        scatter(actual, predicted, T)"
   ]
  },
  {
   "cell_type": "markdown",
   "metadata": {},
   "source": [
    "��������� ��������: ���������� ����� T, ����� ����������� �����������, ��������������� ���� �������. ������ ����� ��������:"
   ]
  },
  {
   "cell_type": "code",
   "execution_count": null,
   "metadata": {},
   "outputs": [],
   "source": [
    "actual_0 = np.array([ 0.,  0.,  0.,  0.,  0.,  0.,  0.,  0.,  0.,  0.,  \n",
    "          1.,  1.,  1., 1.,  1.,  1.,  1.,  1.,  1.,  1.,  1.,  1.])\n",
    "predicted_0 = np.array([ 0.19015288,  0.23872404,  0.42707312,  0.15308362,  0.2951875 ,\n",
    "            0.23475641,  0.17882447,  0.36320878,  0.33505476,  0.202608  ,\n",
    "            0.82044786,  0.69750253,  0.60272784,  0.9032949 ,  0.86949819,\n",
    "            0.97368264,  0.97289232,  0.75356512,  0.65189193,  0.95237033,\n",
    "            0.91529693,  0.8458463 ])"
   ]
  },
  {
   "cell_type": "code",
   "execution_count": null,
   "metadata": {},
   "outputs": [],
   "source": [
    "plt.figure(figsize=(5, 5))\n",
    "scatter(actual_0, predicted_0, 0.5)"
   ]
  },
  {
   "cell_type": "markdown",
   "metadata": {},
   "source": [
    "��������� ������������ ��� ���� ������� ��������� ����������� ������� T = 0.5."
   ]
  },
  {
   "cell_type": "markdown",
   "metadata": {},
   "source": [
    "���� ����� ��������� ������������� - ����� ����� ��������� ��������� �����. \n",
    "\n",
    "����� ������������ �������� ������ ��� ��������: ��������� ����������� ������ 0 ���� ������������ ������ 1. ���� ��� ���������, ����� ����������, �� ������������ �� ����� 0 � 1 ��� �������� �������� ������� �� ����� ������.\n",
    "\n",
    "�������:"
   ]
  },
  {
   "cell_type": "code",
   "execution_count": null,
   "metadata": {},
   "outputs": [],
   "source": [
    "actual_1 = np.array([ 0.,  0.,  0.,  0.,  0.,  0.,  0.,  0.,  0.,  0.,  0.,  0.,  0.,\n",
    "                    0.,  0.,  1.,  1.,  1.,  1.,  1.,  1.,  1.,  1.,  1.,  1.,  1.,\n",
    "                    1.,  1.,  1.,  1.])\n",
    "predicted_1 = np.array([ 0.41310733,  0.43739138,  0.22346525,  0.46746017,  0.58251177,\n",
    "            0.38989541,  0.43634826,  0.32329726,  0.01114812,  0.41623557,\n",
    "            0.54875741,  0.48526472,  0.21747683,  0.05069586,  0.16438548,\n",
    "            0.68721238,  0.72062154,  0.90268312,  0.46486043,  0.99656541,\n",
    "            0.59919345,  0.53818659,  0.8037637 ,  0.272277  ,  0.87428626,\n",
    "            0.79721372,  0.62506539,  0.63010277,  0.35276217,  0.56775664])\n",
    "actual_2 = np.array([ 1.,  1.,  1.,  1.,  1.,  1.,  1.,  1.,  1.,  1.,  1.,  1.,  0.,\n",
    "            0.,  0.,  0.,  0.,  0.,  0.,  0.,  0.,  0.,  0.,  0.])\n",
    "predicted_2 = np.array([ 0.07058193,  0.57877375,  0.42453249,  0.56562439,  0.13372737,\n",
    "            0.18696826,  0.09037209,  0.12609756,  0.14047683,  0.06210359,\n",
    "            0.36812596,  0.22277266,  0.79974381,  0.94843878,  0.4742684 ,\n",
    "            0.80825366,  0.83569563,  0.45621915,  0.79364286,  0.82181152,\n",
    "            0.44531285,  0.65245348,  0.69884206,  0.69455127])"
   ]
  },
  {
   "cell_type": "code",
   "execution_count": null,
   "metadata": {},
   "outputs": [],
   "source": [
    "many_scatters([actual_0, actual_1, actual_2], [predicted_0, predicted_1, predicted_2], \n",
    "              [0.5, 0.5, 0.5], [\"Perfect\", \"Typical\", \"Awful algorithm\"], (1, 3))"
   ]
  },
  {
   "cell_type": "markdown",
   "metadata": {},
   "source": [
    "�������� ����� ���� ���������� � ���������� ������ �� ��������� ����������� �� 0.5, � ����� ��������� - ������ ������������ ��������� � ���� ��� �������.  "
   ]
  },
  {
   "cell_type": "code",
   "execution_count": null,
   "metadata": {},
   "outputs": [],
   "source": [
    "# ��������� ��������� �������\n",
    "actual_0r = np.array([ 0.,  0.,  0.,  0.,  0.,  0.,  0.,  0.,  0.,  0.,  0.,  1.,  1.,\n",
    "            1.,  1.,  1.,  1.,  1.,  1.,  1.,  1.,  1.,  1.,  1.])\n",
    "predicted_0r = np.array([ 0.23563765,  0.16685597,  0.13718058,  0.35905335,  0.18498365,\n",
    "            0.20730027,  0.14833803,  0.18841647,  0.01205882,  0.0101424 ,\n",
    "            0.10170538,  0.94552901,  0.72007506,  0.75186747,  0.85893269,\n",
    "            0.90517219,  0.97667347,  0.86346504,  0.72267683,  0.9130444 ,\n",
    "            0.8319242 ,  0.9578879 ,  0.89448939,  0.76379055])\n",
    "# ��������� ������� ��������\n",
    "actual_1r = np.array([ 0.,  0.,  0.,  0.,  0.,  0.,  0.,  0.,  0.,  0.,  0.,  0.,  1.,\n",
    "            1.,  1.,  1.,  1.,  1.,  1.,  1.,  1.,  1.,  1.,  1.,  1.,  1.])\n",
    "predicted_1r = np.array([ 0.13832748,  0.0814398 ,  0.16136633,  0.11766141,  0.31784942,\n",
    "            0.14886991,  0.22664977,  0.07735617,  0.07071879,  0.92146468,\n",
    "            0.87579938,  0.97561838,  0.75638872,  0.89900957,  0.93760969,\n",
    "            0.92708013,  0.82003675,  0.85833438,  0.67371118,  0.82115125,\n",
    "            0.87560984,  0.77832734,  0.7593189,  0.81615662,  0.11906964,\n",
    "            0.18857729])"
   ]
  },
  {
   "cell_type": "code",
   "execution_count": null,
   "metadata": {},
   "outputs": [],
   "source": [
    "many_scatters([actual_0, actual_1, actual_0r, actual_1r], \n",
    "              [predicted_0, predicted_1, predicted_0r, predicted_1r], \n",
    "              [0.5, 0.5, 0.5, 0.5],\n",
    "              [\"Perfect careful\", \"Typical careful\", \"Perfect risky\", \"Typical risky\"], \n",
    "              (2, 2))"
   ]
  },
  {
   "cell_type": "markdown",
   "metadata": {},
   "source": [
    "����� ��������� ����� ���������. ���� �������� ������ ������ false positive, �� �� ����� ���� ������ ������������, ������� � ����. \n",
    "����������, ����� �������� ������ false negative, ������� ���� ������������� ������� �����������. "
   ]
  },
  {
   "cell_type": "code",
   "execution_count": null,
   "metadata": {},
   "outputs": [],
   "source": [
    "actual_10 = np.array([ 0.,  0.,  0.,  0.,  0.,  0.,  0.,  0.,  0.,  0.,  0.,  0.,  0.,\n",
    "                0.,  1.,  1.,  1.,  1.,  1.,  1.,  1.,  1.,  1.,  1.,  1.,  1.,\n",
    "                1.,  1.,  1.])\n",
    "predicted_10 = np.array([ 0.29340574, 0.47340035,  0.1580356 ,  0.29996772,  0.24115457,  0.16177793,\n",
    "                         0.35552878,  0.18867804,  0.38141962,  0.20367392,  0.26418924, 0.16289102, \n",
    "                         0.27774892,  0.32013135,  0.13453541, 0.39478755,  0.96625033,  0.47683139,  \n",
    "                         0.51221325,  0.48938235, 0.57092593,  0.21856972,  0.62773859,  0.90454639,  0.19406537,\n",
    "                         0.32063043,  0.4545493 ,  0.57574841,  0.55847795 ])\n",
    "actual_11 = np.array([ 0.,  0.,  0.,  0.,  0.,  0.,  0.,  0.,  0.,  0.,  0.,  0.,  0.,\n",
    "                0.,  1.,  1.,  1.,  1.,  1.,  1.,  1.,  1.,  1.,  1.,  1.,  1.,  1.])\n",
    "predicted_11 = np.array([ 0.35929566, 0.61562123,  0.71974688,  0.24893298,  0.19056711,  0.89308488,\n",
    "            0.71155538,  0.00903258,  0.51950535,  0.72153302,  0.45936068,  0.20197229,  0.67092724,\n",
    "                         0.81111343,  0.65359427,  0.70044585,  0.61983513,  0.84716577,  0.8512387 ,  \n",
    "                         0.86023125,  0.7659328 ,  0.70362246,  0.70127618,  0.8578749 ,  0.83641841,  \n",
    "                         0.62959491,  0.90445368])"
   ]
  },
  {
   "cell_type": "code",
   "execution_count": null,
   "metadata": {},
   "outputs": [],
   "source": [
    "many_scatters([actual_1, actual_10, actual_11], [predicted_1, predicted_10, predicted_11], \n",
    "              [0.5, 0.5, 0.5], [\"Typical\", \"Avoids FP\", \"Avoids FN\"], (1, 3))"
   ]
  },
  {
   "cell_type": "markdown",
   "metadata": {},
   "source": [
    "�� ������� ������ ��������� �������� ������������. ����� �� ����� ��������, ��� ������� ��������� ������ ������� ������������, ������� ����������� ��������� ������, ��������� ������� ��� ������������."
   ]
  },
  {
   "cell_type": "markdown",
   "metadata": {},
   "source": [
    "### �������, ����������� �������� ������� ������������"
   ]
  },
  {
   "cell_type": "markdown",
   "metadata": {},
   "source": [
    "���� ��� �������� ��������, ����� ����������� �� ��������� �������� �������� ������� �������������� ������ ��������: \n",
    "1. ��� ������� � ������������ ��� ������� ���������� ������, ����� ������ ������������ ����������� �� ���������� �������, � ����� ��������� ��������, ��������������� ��� �������.\n",
    "1. �� ����� ������������ ������ ��������� ��������, ����� ���� ���������� ���������� �������, � ����� ���������� �������������� �������, ������� ����� ��������������� ���� �����������.\n",
    "\n",
    "����� �� ������� ���������� ������ ������� � ���� ���� �������."
   ]
  },
  {
   "cell_type": "markdown",
   "metadata": {},
   "source": [
    "#### Precision � recall; accuracy"
   ]
  },
  {
   "cell_type": "markdown",
   "metadata": {},
   "source": [
    "��� ������ ���������� � ���������, ����������� �������� ��� ����� ����������� �� ������ T, �� ���� ������������ ��� �������� �������: actual � predicted."
   ]
  },
  {
   "cell_type": "markdown",
   "metadata": {},
   "source": [
    "��� ���������� ������� - precision � recall. ������ ����������, ��� ����� �������� ������������� ����� 1 � ����������� ������, � ������ - ��� ����� �������� ������ 1 �������� �����. \n",
    "\n",
    "����� ���������� ����� ������� � ��������� ������� - accuracy; ��� ���������� ���� ���������� �������.\n",
    "\n",
    "������� ������������ � ���������� ���� ������, ���������� �� �� ������ �������� ������������."
   ]
  },
  {
   "cell_type": "code",
   "execution_count": null,
   "metadata": {},
   "outputs": [],
   "source": [
    "from sklearn.metrics import precision_score, recall_score, accuracy_score"
   ]
  },
  {
   "cell_type": "code",
   "execution_count": null,
   "metadata": {},
   "outputs": [],
   "source": [
    "T = 0.5\n",
    "print(\"���������, ������ �� ��������:\")\n",
    "for actual, predicted, descr in zip([actual_0, actual_1, actual_2], \n",
    "                                    [predicted_0 > T, predicted_1 > T, predicted_2 > T],\n",
    "                                    [\"Perfect:\", \"Typical:\", \"Awful:\"]):\n",
    "    print(descr, \"precision =\", precision_score(actual, predicted), \"recall =\", \\\n",
    "        recall_score(actual, predicted), \";\",\\\n",
    "        \"accuracy =\", accuracy_score(actual, predicted))\n",
    "print()\n",
    "print(\"���������� � ��������� ���������:\")\n",
    "for actual, predicted, descr in zip([actual_1, actual_1r], \n",
    "                                    [predicted_1 > T, predicted_1r > T],\n",
    "                                    [\"Typical careful:\", \"Typical risky:\"]):\n",
    "    print(descr, \"precision =\", precision_score(actual, predicted), \"recall =\", \\\n",
    "        recall_score(actual, predicted), \";\",\\\n",
    "        \"accuracy =\", accuracy_score(actual, predicted))\n",
    "print()\n",
    "print(\"������ ���������� ���������� � ������� FP � FN:\")\n",
    "for actual, predicted, descr in zip([actual_10, actual_11], \n",
    "                                    [predicted_10 > T, predicted_11 > T], \n",
    "                                    [\"Avoids FP:\", \"Avoids FN:\"]):\n",
    "    print(descr, \"precision =\", precision_score(actual, predicted), \"recall =\", \\\n",
    "        recall_score(actual, predicted), \";\",\\\n",
    "        \"accuracy =\", accuracy_score(actual, predicted))"
   ]
  },
  {
   "cell_type": "markdown",
   "metadata": {},
   "source": [
    "��� ��� ������� ����� ��������� ������� ������ ������� � ������ ����������. ������� ��������, ��� ������� ����� ������� ��������  [0, 1], � ������ �� ����� ����������������.\n",
    "\n",
    "�������� �� ����� �������� ������������, �� ����� ������ ��, ������� �������� ����������� ����� �� ������������� ������� (� ������ ������ T = 0.5).\n",
    "\n",
    "������� accuracy ���� ���������� ��� ������� false positive � false negative, ���� ���� ������ precision � recall ���������� �������������� ��� ��������. ����������, �� ��� ���� � ����������, ����� �������������� ������ FP � FN.\n",
    "\n",
    "�� �������� ��� �������, ���������� ����� T = 0.5, ������ ��� ��� ����� ���� �������� �� ������� �����������. ������� ��������� �� ��������� (����� ���������� ��� ���� ������) ������ ��������, ��� �������� precision � recall ��� ���������� ������."
   ]
  },
  {
   "cell_type": "code",
   "execution_count": null,
   "metadata": {},
   "outputs": [],
   "source": [
    "from sklearn.metrics import precision_recall_curve"
   ]
  },
  {
   "cell_type": "code",
   "execution_count": null,
   "metadata": {},
   "outputs": [],
   "source": [
    "precs = []\n",
    "recs = []\n",
    "threshs = []\n",
    "labels = [\"Typical\", \"Avoids FP\", \"Avoids FN\"]\n",
    "for actual, predicted in zip([actual_1, actual_10, actual_11], \n",
    "                                    [predicted_1, predicted_10, predicted_11]):\n",
    "    prec, rec, thresh = precision_recall_curve(actual, predicted)\n",
    "    precs.append(prec)\n",
    "    recs.append(rec)\n",
    "    threshs.append(thresh)\n",
    "plt.figure(figsize=(15, 5))\n",
    "for i in range(3):\n",
    "    ax = plt.subplot(1, 3, i+1)\n",
    "    plt.plot(threshs[i], precs[i][:-1], label=\"precision\")\n",
    "    plt.plot(threshs[i], recs[i][:-1], label=\"recall\")\n",
    "    plt.xlabel(\"threshold\")\n",
    "    ax.set_title(labels[i])\n",
    "    plt.legend()"
   ]
  },
  {
   "cell_type": "markdown",
   "metadata": {},
   "source": [
    "��� ���������� ������ �� ������ ������ ������ FP � ������ ������ FN, ������� ���� �� ������ ������, � ������  - ������. �� ������ ������� ����� ��������� ����������� �������� ������, ��� ������� precision � recall ����� ���������. ���� ������ ������ �� �������, ����� ������� ������ ��������. \n",
    "\n",
    "����������, ��� ���������� �������� precision � recall ������������ ���������� ��������. ��������, � ������ �����������, ����� �� ������� ������������ �������� (0 - ������, 1 - �����), ������ false negative ��������� ��������, ������ recall ����� 0.9. ����� ������� ��������, ��� �� �����, � ��� ���������� ����������� ������� ������; ������� ���� ���������� ������� �������."
   ]
  },
  {
   "cell_type": "markdown",
   "metadata": {},
   "source": [
    "__<font color=\"green\" size=5>Programming assignment: problem 1. </font>__ ��������� ����� T = 0.65; �� �������� ����� �������� ������, ���� ����� ������� �� ���� ��������� ����� �������� (actual, predicted). ��������� ������ precision � recall ��� ���� ���� ��� ��������.\n",
    "\n",
    "6 ���������� ����� �������� � ��������� ���� � ����� �������:\n",
    "\n",
    "precision_1 recall_1 precision_10 recall_10 precision_11 recall_11\n",
    "\n",
    "����� XXX ����� ������� ������������� ����� �� ������ � ��������� ���������� actual_XXX � predicted_XXX.\n",
    "\n",
    "��������� ����� � ������� write_answer_1. ���������� ���� ��������� � �����."
   ]
  },
  {
   "cell_type": "code",
   "execution_count": null,
   "metadata": {},
   "outputs": [],
   "source": [
    "############### Programming assignment: problem 1 ###############\n",
    "\n"
   ]
  },
  {
   "cell_type": "code",
   "execution_count": null,
   "metadata": {},
   "outputs": [],
   "source": [
    "def write_answer_1(precision_1, recall_1, precision_10, recall_10, precision_11, recall_11):\n",
    "    answers = [precision_1, recall_1, precision_10, recall_10, precision_11, recall_11]\n",
    "    with open(\"pa_metrics_problem1.txt\", \"w\") as fout:\n",
    "        fout.write(\" \".join([str(num) for num in answers]))"
   ]
  },
  {
   "cell_type": "markdown",
   "metadata": {},
   "source": [
    "#### F1-score"
   ]
  },
  {
   "cell_type": "markdown",
   "metadata": {},
   "source": [
    "��������� ���������� ���� ������ precision-recall - � ���, ��� �� ���: ���������, ��� ����������� ���������. ����� ����� ��������, ���������� F1-�������, ������� ����� �������� �������������� precision � recall. \n",
    "F1-������� ����� ����� 1, ���� � ������ ���� precision = 1 � recall = 1 (��������� ��������). \n",
    "\n",
    "(: �������� F1 ������: ���� ���� �� ������� ���������, � ������ ������ � 1 (�� �������� �����, ��� ����� ����������� ������ ����� ��������), F1 ����� ������ �� 1. F1-������� ������ ��������������, ������ ��� ��� ����� ����� ���������� ������� ������� � �������� ������������.\n",
    "\n",
    "��������, ��������� F1 ��� ���� �� ������ ��������, ��� �������� �� ������� ������� (�� ������, ��� ��� ���� �� ������ ������ ������� � �������)."
   ]
  },
  {
   "cell_type": "code",
   "execution_count": null,
   "metadata": {},
   "outputs": [],
   "source": [
    "from sklearn.metrics import f1_score"
   ]
  },
  {
   "cell_type": "code",
   "execution_count": null,
   "metadata": {},
   "outputs": [],
   "source": [
    "T = 0.5\n",
    "print(\"������ ���������� ���������� � ������� FP � FN:\")\n",
    "for actual, predicted, descr in zip([actual_1, actual_10, actual_11], \n",
    "                                    [predicted_1 > T, predicted_10 > T, predicted_11 > T], \n",
    "                                    [\"Typical:\", \"Avoids FP:\", \"Avoids FN:\"]):\n",
    "    print(descr, \"f1 =\", f1_score(actual, predicted))"
   ]
  },
  {
   "cell_type": "markdown",
   "metadata": {},
   "source": [
    "F1-������� � ���� ��������� �������, ����� ���� �� ������ ������ ����� 1, ����������� ������, ��� � ������, ���������������� ������."
   ]
  },
  {
   "cell_type": "markdown",
   "metadata": {},
   "source": [
    "__<font color=\"green\" size=5>Programming assignment: problem 2. </font>__ �� precision � recall ������ � �������� ������� ������������, � ������������� �����. \n",
    "��� ��� �� ��� (actual, predicted), ��� � � ���������� ������, ������� ����������� ������, ��������������� F1_score. ����� ������������� ������ ������ ���� T = 0.1 * k, k - �����; ��������������, ����� ����� ��� �������� k. ���� f1 ��������������� ��� ���������� ��������� k, ������� ���������� �� ���.\n",
    "\n",
    "�������� ��������� ����� k � ��������� �������:\n",
    "\n",
    "k_1, k_10, k_11\n",
    "\n",
    "����� XXX ����� ������� ������������� ����� �� ������ � ��������� ���������� actual_XXX � predicted_XXX.\n",
    "\n",
    "��������� ����� � ������� write_answer_2. ��������� ���� � �����.\n",
    "\n",
    "���� �� �������� ������ �� ���� ��������� k � ��� �� ������� � ���������� ks, �� � ������� ���� ���� ����� ��������������� ��������� ������:"
   ]
  },
  {
   "cell_type": "code",
   "execution_count": null,
   "metadata": {},
   "outputs": [],
   "source": [
    "############### Programming assignment: problem 2 ###############\n",
    "\n"
   ]
  },
  {
   "cell_type": "code",
   "execution_count": null,
   "metadata": {},
   "outputs": [],
   "source": [
    "many_scatters([actual_1, actual_10, actual_11], [predicted_1, predicted_10, predicted_11], \n",
    "              np.array(ks)*0.1, [\"Typical\", \"Avoids FP\", \"Avoids FN\"], (1, 3))"
   ]
  },
  {
   "cell_type": "code",
   "execution_count": null,
   "metadata": {},
   "outputs": [],
   "source": [
    "def write_answer_2(k_1, k_10, k_11):\n",
    "    answers = [k_1, k_10, k_11]\n",
    "    with open(\"pa_metrics_problem2.txt\", \"w\") as fout:\n",
    "        fout.write(\" \".join([str(num) for num in answers]))"
   ]
  },
  {
   "cell_type": "markdown",
   "metadata": {},
   "source": [
    "### �������, ����������� ������� ������������ ������ 1"
   ]
  },
  {
   "cell_type": "markdown",
   "metadata": {},
   "source": [
    "������������� ������� ������ ����������������, �� ��� �� ������������� �� �� ��������� ������� ����� ����������, ���������� �� ���������. � ��������� ������� ����������� ����� � ������ ����, ��������, ���� �� �������������, �������� �� ������� � ���������� �����, � �������� ����������� ������ �� ������ ������ �� ��� �������. ���� ���� � ����� ������ �� ��� ����� ���������� ������������, ������� ������� �� ���������� ������� �����������. "
   ]
  },
  {
   "cell_type": "markdown",
   "metadata": {},
   "source": [
    "#### Log_loss"
   ]
  },
  {
   "cell_type": "markdown",
   "metadata": {},
   "source": [
    "Log_loss ��������� ������������� ����� � actual � ������������� �� predicted, ������ � ��������������� ������:\n",
    "\n",
    "$log\\_loss(actual, predicted) = - \\frac 1 n \\sum_{i=1}^n (actual_i \\cdot \\log (predicted_i) + (1-actual_i) \\cdot \\log (1-predicted_i))$, $n$ - ����� ��������.\n",
    "\n",
    "��������������, ��� ������� ����� ��������������. "
   ]
  },
  {
   "cell_type": "markdown",
   "metadata": {},
   "source": [
    "�������� �� �� ����� ��������:"
   ]
  },
  {
   "cell_type": "code",
   "execution_count": null,
   "metadata": {},
   "outputs": [],
   "source": [
    "from sklearn.metrics import log_loss"
   ]
  },
  {
   "cell_type": "code",
   "execution_count": null,
   "metadata": {},
   "outputs": [],
   "source": [
    "print(\"���������, ������ �� ��������:\")\n",
    "for actual, predicted, descr in zip([actual_0, actual_1, actual_2], \n",
    "                                    [predicted_0, predicted_1, predicted_2],\n",
    "                                    [\"Perfect:\", \"Typical:\", \"Awful:\"]):\n",
    "    print(descr, log_loss(actual, predicted))\n",
    "print()\n",
    "print(\"���������� � ��������� ���������:\")\n",
    "for actual, predicted, descr in zip([actual_0, actual_0r, actual_1, actual_1r], \n",
    "                                    [predicted_0, predicted_0r, predicted_1, predicted_1r],\n",
    "                                    [\"Ideal careful\", \"Ideal risky\", \"Typical careful:\", \"Typical risky:\"]):\n",
    "    print(descr, log_loss(actual, predicted))\n",
    "print()\n",
    "print(\"������ ���������� ���������� � ������� FP � FN:\")\n",
    "for actual, predicted, descr in zip([actual_10, actual_11], \n",
    "                                    [predicted_10, predicted_11], \n",
    "                                    [\"Avoids FP:\", \"Avoids FN:\"]):\n",
    "    print(descr, log_loss(actual, predicted))"
   ]
  },
  {
   "cell_type": "markdown",
   "metadata": {},
   "source": [
    "��� � ���������� �������, log_loss ������ ��������� ���������, �������� � ������ ������. �� �������� ��������, ��� ���������������� �������� ���������� ������: ������� �� ��������� ���� ������� � �� ����� ������� �������. ������� ���� ��� ���������� ���������, ���� �������� ������ �� ���� �������� log_loss, ���������� ������, ��� �� ���������.\n",
    "\n",
    "�� ���� ��� ������� ��������� ���������� � ��������� ���������. ��� �� ������ ����, � ������� Typical careful � Typical risky ���������� ������ ��� ����������� �� T = 0.5 �������� ����������, � ������� Ideal ������ ������ ���. ������ �� �������� ��������� ������ � Typical ���������� ��������� ���������� ������� ������� ����������� log_loss, ��� ����������� ���������. � ������ �������, �� ������ ��������� ������ ����������� ��������� �������� �������� ������� log_loss, ��� ���������� ��������� ��������.\n",
    "\n",
    "����� �������, log_loss ������������ � � ������������, ������� � 0 � 1, � � ������������, ������� � 0.5. \n",
    "\n",
    "������ FP � FN ������� Log_loss ��������� �� �����."
   ]
  },
  {
   "cell_type": "markdown",
   "metadata": {},
   "source": [
    "������ �������� ������� ��������� log_loss �� ������, ����� ����� ������ ���������� FP ��� FN: ��� ����� ���������� �������� �������� (�� ���� ��������������� � ������������� � �������) ���������� �� ���� ������������� � ��������� �������������. ��������, ������� ���������� false positive:\n",
    "\n",
    "$weighted\\_log\\_loss(actual, predicted) = -\\frac 1 n \\sum_{i=1}^n (0.3\\, \\cdot actual_i \\cdot \\log (predicted_i) + 0.7\\,\\cdot (1-actual_i)\\cdot \\log (1-predicted_i))$\n",
    "\n",
    "���� �������� ������� ������������� ������� ����������� ������� ������, �� ���� ������ �� ����� ���� ����������� ������ 0, �� ������ ��������� � ������� ����� ����, � ������ ����������� � ������� �����.  "
   ]
  },
  {
   "cell_type": "markdown",
   "metadata": {},
   "source": [
    "__<font color=\"green\" size=5>Programming assignment: problem 3. </font>__ �������� �������, ������� ����� �� ���� ������� actual � predicted � ���������� ���������������� Log-Loss, ����������� �� ������� ����. ��������� �� �������� (��������� ��� wll) �� ��� �� ��������, �� ������� �� ��������� ������� log_loss, � �������� � ���� � ��������� �������:\n",
    "\n",
    "wll_0 wll_1 wll_2 wll_0r wll_1r wll_10 wll_11\n",
    "\n",
    "����� XXX ����� ������� ������������� ����� �� ������ � ��������� ���������� actual_XXX � predicted_XXX.\n",
    "\n",
    "��������� ����� � ������� write_answer3. ��������� ���� � �����."
   ]
  },
  {
   "cell_type": "code",
   "execution_count": null,
   "metadata": {
    "scrolled": true
   },
   "outputs": [],
   "source": [
    "############### Programming assignment: problem 3 ###############\n",
    "\n"
   ]
  },
  {
   "cell_type": "code",
   "execution_count": null,
   "metadata": {},
   "outputs": [],
   "source": [
    "def write_answer_3(wll_0, wll_1, wll_2, wll_0r, wll_1r, wll_10, wll_11):\n",
    "    answers = [wll_0, wll_1, wll_2, wll_0r, wll_1r, wll_10, wll_11]\n",
    "    with open(\"pa_metrics_problem3.txt\", \"w\") as fout:\n",
    "        fout.write(\" \".join([str(num) for num in answers]))"
   ]
  },
  {
   "cell_type": "markdown",
   "metadata": {},
   "source": [
    "�������� �������� �� ������� weighted_log_loss ����� �������� Avoids FP � Avoids FN."
   ]
  },
  {
   "cell_type": "markdown",
   "metadata": {},
   "source": [
    "#### ROC � AUC"
   ]
  },
  {
   "cell_type": "markdown",
   "metadata": {},
   "source": [
    "��� ���������� ROC-������ (receiver operating characteristic) ���������� ������������ ������ ����������� ������� ������������, �  ����������� ��������, ��������� �� ����� ������ FP � FN. ��� �������� �������� ���, ����� � ������, ����� ���������� ����� ��� ���������� ���������� �������, ROC-������ ��������� ����� ������������ ����� - ������� ����� ���� �������� [0, 1] x [0, 1]. ����� ����, ��� ������ �������� ����� ����� ������ � ������ ������� ����. ���������� ��������� ������������ �������� ���������. � ����� ���������������� ��� ������������ ��������, ����� ������� AUC - ������� ��� ROC-������.\n",
    "\n",
    "���� ��������� � ����������� ��������, ������� �� ���� ������ �� ������� ��������� ROC-������ � AUC, �� �� �� ����� ��������� � ������."
   ]
  },
  {
   "cell_type": "markdown",
   "metadata": {},
   "source": [
    "�������� ROC-������ ��� ����� �����:"
   ]
  },
  {
   "cell_type": "code",
   "execution_count": null,
   "metadata": {},
   "outputs": [],
   "source": [
    "from sklearn.metrics import roc_curve, roc_auc_score"
   ]
  },
  {
   "cell_type": "code",
   "execution_count": null,
   "metadata": {},
   "outputs": [],
   "source": [
    "plt.figure(figsize=(15, 5))\n",
    "plt.subplot(1, 3, 1)\n",
    "aucs = \"\"\n",
    "for actual, predicted, descr in zip([actual_0, actual_1, actual_2], \n",
    "                                    [predicted_0, predicted_1, predicted_2],\n",
    "                                    [\"Perfect\", \"Typical\", \"Awful\"]):\n",
    "    fpr, tpr, thr = roc_curve(actual, predicted)\n",
    "    plt.plot(fpr, tpr, label=descr)\n",
    "    aucs += descr + \":%3f\"%roc_auc_score(actual, predicted) + \" \"\n",
    "plt.xlabel(\"false positive rate\")\n",
    "plt.ylabel(\"true positive rate\")\n",
    "plt.legend(loc=4)\n",
    "plt.axis([-0.1, 1.1, -0.1, 1.1])\n",
    "plt.subplot(1, 3, 2)\n",
    "for actual, predicted, descr in zip([actual_0, actual_0r, actual_1, actual_1r], \n",
    "                                    [predicted_0, predicted_0r, predicted_1, predicted_1r],\n",
    "                                    [\"Ideal careful\", \"Ideal Risky\", \"Typical careful\", \"Typical risky\"]):\n",
    "    fpr, tpr, thr = roc_curve(actual, predicted)\n",
    "    aucs += descr + \":%3f\"%roc_auc_score(actual, predicted) + \" \"\n",
    "    plt.plot(fpr, tpr, label=descr)\n",
    "plt.xlabel(\"false positive rate\")\n",
    "plt.ylabel(\"true positive rate\")\n",
    "plt.legend(loc=4)\n",
    "plt.axis([-0.1, 1.1, -0.1, 1.1])\n",
    "plt.subplot(1, 3, 3)\n",
    "for actual, predicted, descr in zip([actual_1, actual_10, actual_11], \n",
    "                                    [predicted_1, predicted_10, predicted_11], \n",
    "                                    [\"Typical\", \"Avoids FP\", \"Avoids FN\"]):\n",
    "    fpr, tpr, thr = roc_curve(actual, predicted)\n",
    "    aucs += descr + \":%3f\"%roc_auc_score(actual, predicted) + \" \"\n",
    "    plt.plot(fpr, tpr, label=descr)\n",
    "plt.xlabel(\"false positive rate\")\n",
    "plt.ylabel(\"true positive rate\")\n",
    "plt.legend(loc=4)\n",
    "plt.axis([-0.1, 1.1, -0.1, 1.1])\n",
    "print(aucs)"
   ]
  },
  {
   "cell_type": "markdown",
   "metadata": {},
   "source": [
    "��� ������ �������� � �������, ��� ����� ������� �������� ������ (���� �� ����� ���� ��� ��� ����� �����������).\n",
    "\n",
    "��� � ���������, ������ ���� ��������� ���������� �������� ����� ����� ������� ����. �� ������ ������� ����� �������� �������� ROC-������ (������ �� �������� ��� �� ������� �� \"����������\" ����). \n",
    "\n",
    "AUC ���������� ��������� ������������ ������, ��� � �����������, ���� ���������� � �������� ��������� ��������� �� ����������� �� ROC ��� AUC. ������� ���������� ��������� ����� ����� ����������� ������������ ������� ������ �� �����.\n",
    "\n",
    "����������� ������� ������ � ������, ����� ��������� ����������� ������ FP ��� FN. ������ �� �������� AUC ��� ��������� ���������� (������ ����� ���� ����������� ������������ ��������� (0, 1)-(1, 0)). "
   ]
  },
  {
   "cell_type": "markdown",
   "metadata": {},
   "source": [
    "����� ����, ��� ������ ���������, ������ �������� ����� �����������, � ������� ����� ��������� ���������� ����� FP ��� FN. ����� ������������� ����� �� ������. ���� �� ����� �������� ������ FP, ����� �������� ����� �� ����� ������� �������� (��� ����� ����), ���� FN - ����� �� ������� ������� �������� (��� ����� �����). ��� ������������� ����� ����� ��������������� ������ ���������� FP � FN."
   ]
  },
  {
   "cell_type": "markdown",
   "metadata": {},
   "source": [
    "__<font color=\"green\" size=5>Programming assignment: problem 4. </font>__ �� ������ ������ ������� �����, ������� ����� ����� � ������ �������� ���� (����� � ������ �������� ��������� ����������), ���� ����� ������������� ��������� ����� �����������. �������� � �������� ���� ������ � ��������� �������:\n",
    "\n",
    "T_0 T_1 T_2 T_0r T_1r T_10 T_11\n",
    "\n",
    "����� XXX ����� ������� ������������� ����� �� ������ � ��������� ���������� actual_XXX � predicted_XXX.\n",
    "\n",
    "���� �������, �������������� ����������, ���������, �������� __����������__.\n",
    "\n",
    "��������� ����� � ������� write_answer_4. ��������� ���� � �����.\n",
    "\n",
    "���������: ������� roc_curve ���������� ��� ��������: FPR (������ ������ ����� ROC-������), TPR (������ ������� ����� ROC-������) � thresholds (������ �������, ��������������� ������).\n",
    "\n",
    "����������� ������������ ��������� ����� �� ������� � ������� ������� plt.scatter."
   ]
  },
  {
   "cell_type": "code",
   "execution_count": null,
   "metadata": {},
   "outputs": [],
   "source": [
    "############### Programming assignment: problem 4 ###############\n",
    "\n"
   ]
  },
  {
   "cell_type": "code",
   "execution_count": null,
   "metadata": {},
   "outputs": [],
   "source": [
    "def write_answer_4(T_0, T_1, T_2, T_0r, T_1r, T_10, T_11):\n",
    "    answers = [T_0, T_1, T_2, T_0r, T_1r, T_10, T_11]\n",
    "    with open(\"pa_metrics_problem4.txt\", \"w\") as fout:\n",
    "        fout.write(\" \".join([str(num) for num in answers]))"
   ]
  },
  {
   "cell_type": "markdown",
   "metadata": {},
   "source": [
    "��������� roc_curve, ������ ����� precision-recall curve � ���� ������� ��� ���."
   ]
  },
  {
   "cell_type": "markdown",
   "metadata": {},
   "source": [
    "### ����������\n",
    "\n",
    "�� ����������� ��������� ������ �������� �������������. ��������� �� ���, ��������, log_loss, ���������� �� �������������� ������. ���� ������� ������ �������� � ���� �������, ������ �������������� ������������� ������������� ��� ������������ ����� �������� ������������� � ����� ������� ��������� ��������� ������� (��������, micro � macro averaging).\n",
    "\n",
    "�� �������� ������ ������� ��������������� �������, ������� ������ ��� ��������, ����� ��������, ����� �� ������ ������ ��� ������ ������� � ��� ������� ��������� �� ���������� ������� ������������."
   ]
  }
 ],
 "metadata": {
  "kernelspec": {
   "display_name": "Python 3",
   "language": "python",
   "name": "python3"
  },
  "language_info": {
   "codemirror_mode": {
    "name": "ipython",
    "version": 3
   },
   "file_extension": ".py",
   "mimetype": "text/x-python",
   "name": "python",
   "nbconvert_exporter": "python",
   "pygments_lexer": "ipython3",
   "version": "3.6.8"
  }
 },
 "nbformat": 4,
 "nbformat_minor": 1
}